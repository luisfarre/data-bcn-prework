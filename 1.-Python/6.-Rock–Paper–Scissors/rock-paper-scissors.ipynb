{
 "cells": [
  {
   "cell_type": "markdown",
   "metadata": {},
   "source": [
    "<img src=\"https://bit.ly/2VnXWr2\" width=\"100\" align=\"left\">"
   ]
  },
  {
   "cell_type": "markdown",
   "metadata": {},
   "source": [
    "# Rock, Paper & Scissors\n",
    "\n",
    "Let's play the famous game against our computer. You can check the rules [here](https://en.wikipedia.org/wiki/Rock%E2%80%93paper%E2%80%93scissors). \n",
    "\n",
    "## Task\n",
    "Create a program that imitates the playability of the well known game of rock, paper, scissors. Follow the guidelines provided.\n",
    "\n",
    "## Tools\n",
    "1. Loop: **for/while**\n",
    "2. Functions: **input(), print()...**\n",
    "3. Conditional statements: **if, elif, else**\n",
    "4. Definition of functions. Modular programming\n",
    "5. Import modules\n",
    "\n",
    "**To solve this challenge, the use of functions is recommended.**\n",
    "\n",
    "#### 1. Import the choice function of the random module."
   ]
  },
  {
   "cell_type": "code",
   "execution_count": 99,
   "metadata": {},
   "outputs": [],
   "source": [
    "import random\n",
    "\n"
   ]
  },
  {
   "cell_type": "markdown",
   "metadata": {},
   "source": [
    "#### 2. Create a list that includes the 3 possible gesture options of the game: 'rock', 'paper' or 'scissors'. Store the list in a variable called `gestures`."
   ]
  },
  {
   "cell_type": "code",
   "execution_count": 100,
   "metadata": {},
   "outputs": [
    {
     "name": "stdout",
     "output_type": "stream",
     "text": [
      "['rock', 'paper', 'scissors']\n"
     ]
    }
   ],
   "source": [
    "gestures=[]\n",
    "gestures.append('rock')\n",
    "gestures.append('paper')\n",
    "gestures.append('scissors')\n",
    "print(gestures)\n",
    "\n"
   ]
  },
  {
   "cell_type": "markdown",
   "metadata": {},
   "source": [
    "#### 3. Create a variable called `n_rounds` to store the maximum number of rounds to play in a game. \n",
    "Remember that the number of rounds must be odd: 1, 3, 5, ..."
   ]
  },
  {
   "cell_type": "code",
   "execution_count": 101,
   "metadata": {},
   "outputs": [],
   "source": [
    "n_rounds=7"
   ]
  },
  {
   "cell_type": "markdown",
   "metadata": {},
   "source": [
    "#### 4. Create a variable called `rounds_to_win` to store the number of rounds that a player must win to win the game.\n",
    "**Hint**: the value stored in `rounds_to_win` depends on the value of `n_rounds`. "
   ]
  },
  {
   "cell_type": "code",
   "execution_count": 102,
   "metadata": {},
   "outputs": [
    {
     "name": "stdout",
     "output_type": "stream",
     "text": [
      "4.0\n"
     ]
    }
   ],
   "source": [
    "rounds_to_win=n_rounds/2 +0.5\n",
    "\n",
    "print(rounds_to_win)"
   ]
  },
  {
   "cell_type": "markdown",
   "metadata": {},
   "source": [
    "#### 5. Create two variables to store the number of rounds that the computer and the player have won. Call these variables `cpu_score` and `player_score`."
   ]
  },
  {
   "cell_type": "code",
   "execution_count": 103,
   "metadata": {},
   "outputs": [],
   "source": [
    "cpu_score=0\n",
    "player_score=0"
   ]
  },
  {
   "cell_type": "markdown",
   "metadata": {},
   "source": [
    "#### 6. Define a function that randomly returns one of the 3 gesture options.\n",
    "You will use this function to simulate the gesture choice of the computer. "
   ]
  },
  {
   "cell_type": "code",
   "execution_count": 104,
   "metadata": {},
   "outputs": [],
   "source": [
    "def fx_computer():\n",
    "    return gestures[random.randint(0,2)]\n"
   ]
  },
  {
   "cell_type": "markdown",
   "metadata": {},
   "source": [
    "#### 7. Define a function that asks the player which is the gesture he or she wants to show: 'rock', 'paper' or 'scissors'.\n",
    "The player should only be allowed to choose one of the 3 gesture options. If the player's choice is not rock, paper or scissors, keep asking until it is."
   ]
  },
  {
   "cell_type": "code",
   "execution_count": 105,
   "metadata": {},
   "outputs": [],
   "source": [
    "def ch_player():\n",
    "    print('Which gesture you want to show: paper, rock or scissors')\n",
    "    pl = input()\n",
    "    while pl not in ('paper','rock','scissors'):\n",
    "        print('Your gesture must be paper, rock or scissors ')\n",
    "        pl = input()\n",
    "    return pl"
   ]
  },
  {
   "cell_type": "markdown",
   "metadata": {},
   "source": [
    "#### 8. Define a function that checks who won a round. \n",
    "The function should return 0 if there is a tie, 1 if the computer wins and 2 if the player wins."
   ]
  },
  {
   "cell_type": "code",
   "execution_count": 106,
   "metadata": {},
   "outputs": [],
   "source": [
    "def game():\n",
    "\n",
    "    player=ch_player()\n",
    "    cpu=fx_computer()\n",
    "    \n",
    "\n",
    "    if (cpu == 'paper' and player == 'paper') or (cpu == 'rock' and player == 'rock') or (cpu == 'scissors' and player == 'scissors'):\n",
    "        x=0\n",
    "\n",
    "    elif (player == 'paper' and cpu == 'rock') or (player == 'rock' and cpu == 'scissors') or (player == 'scissors' and cpu == 'paper'):\n",
    "        x=2\n",
    "\n",
    "    elif (cpu == 'paper' and player == 'rock') or (cpu == 'rock' and player == 'scissors') or (cpu == 'scissors' and player == 'paper'):\n",
    "        x=1\n",
    "    return (player,cpu,x)"
   ]
  },
  {
   "cell_type": "markdown",
   "metadata": {},
   "source": [
    "#### 9. Define a function that prints the choice of the computer, the choice of the player and a message that announces who won the current round. \n",
    "You should also use this function to update the variables that count the number of rounds that the computer and the player have won. The score of the winner increases by one point. If there is a tie, the score does not increase."
   ]
  },
  {
   "cell_type": "code",
   "execution_count": 107,
   "metadata": {},
   "outputs": [],
   "source": [
    "def game2(player_score,cpu_score):\n",
    "    \n",
    "    x=game()\n",
    "    print('Players choice:',x[0])\n",
    "    print('Cpu choice:',x[1])\n",
    "   # print (x[2])\n",
    "    \n",
    "    if x[2]==1:\n",
    "        cpu_score+=1\n",
    "        print('cpu wins')\n",
    "    elif x[2]==2:\n",
    "        player_score+=1\n",
    "        print('player wins')\n",
    "    elif x[2]==0:\n",
    "        print('tie')\n",
    "    \n",
    "\n",
    "    return (player_score,cpu_score)\n"
   ]
  },
  {
   "cell_type": "markdown",
   "metadata": {},
   "source": [
    "#### 10. Now it's time to code the execution of the game using the functions and variables you defined above. \n",
    "\n",
    "First, create a loop structure that repeats while no player reaches the minimum score necessary to win and the number of rounds is less than the maximum number of rounds to play in a game.  \n",
    "\n",
    "Inside the loop, use the functions and variables above to create the execution of a round: ask for the player's choice, generate the random choice of the computer, show the round results, update the scores, etc. "
   ]
  },
  {
   "cell_type": "code",
   "execution_count": 111,
   "metadata": {},
   "outputs": [
    {
     "name": "stdout",
     "output_type": "stream",
     "text": [
      "How many rounds you want to play\n",
      "5\n",
      "\u001b[1mRound 1 \u001b[0m\n",
      "Which gesture you want to show: paper, rock or scissors\n",
      "paper\n",
      "Players choice: paper\n",
      "Cpu choice: paper\n",
      "tie\n",
      "\u001b[1mRound 2 \u001b[0m\n",
      "Which gesture you want to show: paper, rock or scissors\n",
      "paper\n",
      "Players choice: paper\n",
      "Cpu choice: rock\n",
      "player wins\n",
      "\u001b[1mRound 3 \u001b[0m\n",
      "Which gesture you want to show: paper, rock or scissors\n",
      "paper\n",
      "Players choice: paper\n",
      "Cpu choice: scissors\n",
      "cpu wins\n",
      "\u001b[1mRound 4 \u001b[0m\n",
      "Which gesture you want to show: paper, rock or scissors\n",
      "paper\n",
      "Players choice: paper\n",
      "Cpu choice: paper\n",
      "tie\n",
      "\u001b[1mRound 5 \u001b[0m\n",
      "Which gesture you want to show: paper, rock or scissors\n",
      "paper\n",
      "Players choice: paper\n",
      "Cpu choice: scissors\n",
      "cpu wins\n"
     ]
    }
   ],
   "source": [
    "cpu_score=0\n",
    "player_score=0\n",
    "print('How many rounds you want to play')\n",
    "n_rounds=int(input())\n",
    "rounds_to_win=n_rounds/2 +0.5\n",
    "count=1\n",
    "\n",
    "while cpu_score<rounds_to_win and player_score<rounds_to_win and count<=n_rounds:\n",
    "    print('\\033[1m'+'Round',count,'\\033[0m')\n",
    "    value=game2(player_score,cpu_score)\n",
    "    player_score=value[0]\n",
    "    cpu_score=value[1]\n",
    "    count+=1\n",
    "\n"
   ]
  },
  {
   "cell_type": "markdown",
   "metadata": {},
   "source": [
    "#### 11. Print the winner of the game based on who won more rounds.\n",
    "Remember that the game might be tied. "
   ]
  },
  {
   "cell_type": "code",
   "execution_count": 112,
   "metadata": {},
   "outputs": [
    {
     "name": "stdout",
     "output_type": "stream",
     "text": [
      "cpu wins: 2 vs 1\n"
     ]
    }
   ],
   "source": [
    "if player_score>cpu_score:\n",
    "    print('player wins:',player_score, 'vs', cpu_score)\n",
    "elif player_score<cpu_score:\n",
    "    print('cpu wins:',cpu_score, 'vs', player_score)\n",
    "if player_score==cpu_score:\n",
    "    print('tie',player_score, 'vs', cpu_score)"
   ]
  },
  {
   "cell_type": "markdown",
   "metadata": {},
   "source": [
    "# Bonus: Rock, Paper, Scissors, Lizard & Spock\n",
    "![](images/rpsls.jpg)\n",
    "\n",
    "In this challenge, you need to improve the previous game by adding two new options. To know more about the rules of the improved version of rock, paper, scissors, check this [link](http://www.samkass.com/theories/RPSSL.html). \n",
    "\n",
    "In addition, you will also need to improve how the game interacts with the player: the number of rounds to play, which must be an odd number, will be requested to the user until a valid number is entered. Define a new function to make that request.\n",
    "\n",
    "**Hint**: Try to reuse the code that you already coded in the previous challenge. If your code is efficient, this bonus will only consist of simple modifications to the original game."
   ]
  },
  {
   "cell_type": "code",
   "execution_count": null,
   "metadata": {},
   "outputs": [],
   "source": []
  }
 ],
 "metadata": {
  "kernelspec": {
   "display_name": "Python 3",
   "language": "python",
   "name": "python3"
  },
  "language_info": {
   "codemirror_mode": {
    "name": "ipython",
    "version": 3
   },
   "file_extension": ".py",
   "mimetype": "text/x-python",
   "name": "python",
   "nbconvert_exporter": "python",
   "pygments_lexer": "ipython3",
   "version": "3.7.4"
  }
 },
 "nbformat": 4,
 "nbformat_minor": 2
}
